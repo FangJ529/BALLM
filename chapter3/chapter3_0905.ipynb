{
 "cells": [
  {
   "cell_type": "code",
   "execution_count": null,
   "id": "d7770890",
   "metadata": {},
   "outputs": [],
   "source": [
    "import torch\n",
    "\n",
    "inputs = torch.tensor(\n",
    "    [[0.43,0.15,0.89], # Your (x^1)\n",
    "    [0.55,0.87,0.66], # journey (x^2)\n",
    "    [0.57,0.85,0.64], # starts (x^3)\n",
    "    [0.22,0.58,0.33], # with (x^4)\n",
    "    [0.77,0.25,0.10], # one (x^5)\n",
    "    [0.05,0.80,0.55]] # step (x^6)\n",
    ")\n",
    "\n",
    "attn_scores = torch.empty(6,6)\n",
    "\n",
    "# 速度过慢\n",
    "# for i,x_i in enumerate(inputs):\n",
    "#     for j,x_j in enumerate(inputs):\n",
    "#         attn_scores[i,j] = torch.dot(x_i,x_j)\n",
    "\n",
    "attn_scores = inputs @ inputs.T\n",
    "print(attn_scores)\n",
    "\n",
    "attn_weights = torch.softmax(attn_scores,dim=1)\n",
    "print(attn_weights)\n",
    "\n",
    "attn_context_vecs = attn_weights @ inputs\n",
    "print(attn_context_vecs)"
   ]
  },
  {
   "cell_type": "code",
   "execution_count": 11,
   "id": "2e481979",
   "metadata": {},
   "outputs": [
    {
     "name": "stdout",
     "output_type": "stream",
     "text": [
      "keys.shape: torch.Size([6, 2])\n",
      "values.shape: torch.Size([6, 2])\n",
      "tensor(1.8524)\n",
      "tensor([1.2705, 1.8524, 1.8111, 1.0795, 0.5577, 1.5440])\n",
      "tensor([0.1500, 0.2264, 0.2199, 0.1311, 0.0906, 0.1820])\n",
      "tensor([0.3061, 0.8210])\n"
     ]
    }
   ],
   "source": [
    "import torch\n",
    "\n",
    "inputs = torch.tensor(\n",
    "    [[0.43,0.15,0.89], # Your (x^1)\n",
    "    [0.55,0.87,0.66], # journey (x^2)\n",
    "    [0.57,0.85,0.64], # starts (x^3)\n",
    "    [0.22,0.58,0.33], # with (x^4)\n",
    "    [0.77,0.25,0.10], # one (x^5)\n",
    "    [0.05,0.80,0.55]] # step (x^6)\n",
    ")\n",
    "\n",
    "x_2 = inputs[1]\n",
    "d_in = inputs.shape[1]\n",
    "d_out = 2\n",
    "\n",
    "torch.manual_seed(123)\n",
    "W_query = torch.nn.Parameter(torch.rand(d_in,d_out),requires_grad=False)\n",
    "W_key = torch.nn.Parameter(torch.rand(d_in,d_out),requires_grad=False)\n",
    "W_value = torch.nn.Parameter(torch.rand(d_in,d_out),requires_grad=False)\n",
    "\n",
    "query_2 = x_2 @ W_query\n",
    "# key_2 = x_2 @ W_key\n",
    "# value_2 = x_2 @ W_value\n",
    "\n",
    "# print(query_2)\n",
    "\n",
    "keys = inputs @ W_key\n",
    "values = inputs @ W_value\n",
    "print(\"keys.shape:\",keys.shape)\n",
    "print(\"values.shape:\",values.shape)\n",
    "\n",
    "keys_2 = keys[1]\n",
    "attn_score_22 = query_2.dot(keys_2)\n",
    "print(attn_score_22)\n",
    "\n",
    "attn_score_2 = query_2 @ keys.T\n",
    "print(attn_score_2)\n",
    "\n",
    "d_k = keys.shape[-1]\n",
    "attn_weights_2 = torch.softmax(attn_score_2 / d_k**0.5 ,dim=-1)\n",
    "print(attn_weights_2)\n",
    "\n",
    "context_vec_2 = attn_weights_2 @ values\n",
    "print(context_vec_2)"
   ]
  }
 ],
 "metadata": {
  "kernelspec": {
   "display_name": "fj529",
   "language": "python",
   "name": "python3"
  },
  "language_info": {
   "codemirror_mode": {
    "name": "ipython",
    "version": 3
   },
   "file_extension": ".py",
   "mimetype": "text/x-python",
   "name": "python",
   "nbconvert_exporter": "python",
   "pygments_lexer": "ipython3",
   "version": "3.9.23"
  }
 },
 "nbformat": 4,
 "nbformat_minor": 5
}
